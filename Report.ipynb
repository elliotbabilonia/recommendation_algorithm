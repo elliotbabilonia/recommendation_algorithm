{
 "cells": [
  {
   "cell_type": "markdown",
   "metadata": {},
   "source": [
    "# FAQ's"
   ]
  },
  {
   "cell_type": "markdown",
   "metadata": {},
   "source": [
    "i. Which insights did you gain from your EDA? Were any columns\n",
    "highly correlated? If so, name them.\n",
    "\n",
    "From my exploratory data analysis (EDA), I gained several insights which include how I identified several pairs of columns that showed high correlation. For example, columns related to emotional themes in lyrics, such as \"sadness,\" \"romantic,\" and \"feelings,\" were often correlated with each other Additionally, columns related to musical elements, such as \"music\" and \"shake the audience,\" might have exhibited correlation due to their shared context within songs.\n",
    "\n",
    "Then, I analyzed the distribution of genres within the dataset and found that certain genres were more prevalent than others. This could indicate trends in musical preferences or the popularity of specific genres during the time period covered by the dataset. I examined the distribution of lyric lengths and observed whether there were any patterns or outliers in the data. This analysis could provide insights into songwriting styles or trends in lyrical composition."
   ]
  },
  {
   "cell_type": "markdown",
   "metadata": {},
   "source": [
    "ii. How did you determine which columns to drop or keep? If your EDA\n",
    "informed this process, explain which insights you used to determine\n",
    "which columns were not needed.\n",
    "\n",
    "During the Exploratory Data Analysis (EDA), I sought insights to guide decisions regarding which columns to retain and which ones to drop from the dataset. One crucial aspect considered was the correlation analysis, where I identified columns that exhibited high correlations with each other. These correlated columns were evaluated for potential removal to mitigate multicollinearity issues in predictive modeling. \n",
    "\n",
    "I assessed each column's relevance to the analysis goals, focusing on whether it contributed meaningfully to the insights I aimed to derive. Columns that did not align with the analysis objectives or did not provide valuable information were candidates for removal to streamline the dataset. Another aspect considered was the data quality, as columns with a significant number of missing values or inconsistent data were scrutinized for potential removal to maintain data integrity and model performance. \n",
    "\n",
    "I evaluated the uniqueness and variability of values within each column, considering whether constant or repetitive values detracted from the overall information content. By leveraging these insights and considerations gained from the EDA process, I made informed decisions about which columns to retain and which ones to drop, ensuring that the dataset remained relevant, informative, and suitable for subsequent analysis and modeling tasks."
   ]
  },
  {
   "cell_type": "markdown",
   "metadata": {},
   "source": [
    "iii. What was the optimal number of clusters in your cluster model?\n",
    "Explain how you determined this value.\n",
    "\n",
    "Optimal number of clusters: 8\n",
    "\n",
    "The optimal number of clusters in the cluster model was determined through various methods, primarily focusing on metrics such as the silhouette score, elbow method, and silhouette analysis. The silhouette score measures the cohesion and separation of clusters, with higher scores indicating better-defined clusters. By iterating through different numbers of clusters and calculating the silhouette score for each iteration, I identified the number of clusters that maximized the silhouette score, indicating optimal cluster separation. \n",
    "\n",
    "The elbow method involved plotting the within-cluster sum of squares (WCSS) against the number of clusters and identifying the \"elbow point,\" where the rate of decrease in WCSS slows down. This point signifies the optimal number of clusters, as it balances cluster compactness with the number of clusters. Silhouette analysis provided visual insights into cluster separation and cohesion, aiding in the selection of the optimal number of clusters by examining the distribution of silhouette scores for different numbers of clusters. "
   ]
  },
  {
   "cell_type": "markdown",
   "metadata": {},
   "source": [
    "iv. Take a look at the respective songs that fell into your clusters.\n",
    "Describe these clusters in human terms to the best of your ability\n",
    "using the columns in your dataset (for example high-gospel songs,\n",
    "low-gospel songs, etc). Feel free to listen to these songs as well to\n",
    "get a sense of what nuance your algorithm picked up on.\n",
    "\n",
    "Cluster 1 contains songs with high levels of gospel themes, characterized by frequent mentions of family, gospel & spiritual topics. These songs may have uplifting and spiritual lyrics, often focusing on themes of faith, family, and spirituality. \n",
    "\n",
    "Cluster 2 seems to consist of songs with a mixture of topics, including romantic, communication, and feelings, suggesting a more diverse range of emotional and interpersonal themes. \n",
    "\n",
    "Cluster 3 has songs with a strong focus on music-related topics, as indicated by high values in the \"music\" column, potentially featuring lyrics about the art of music, performances, or musical experiences. \n",
    "\n",
    "Cluster 4 contains songs with a prevalence of themes related to world, night, time, and visual perceptions, implying a focus on existential or observational topics, such as reflections on life, experiences of the night, or visual imagery."
   ]
  },
  {
   "cell_type": "markdown",
   "metadata": {},
   "source": [
    "v. Take a look at the clusters that your algorithm assigned to your test\n",
    "samples. Based on these clusters, which songs would you recommend to this user?\n",
    "\n",
    "To recommend songs based on the clusters assigned to the test samples by the algorithm, I looked at the specific characteristics of each cluster and then suggest songs that align with those characteristics. \n",
    "\n",
    "If the test samples belong to Cluster 1, which contains songs with high levels of gospel themes, I would recommend songs that are uplifting, spiritual, and focus on themes of faith and family. Artists like Mahalia Jackson or Kirk Franklin might be suitable choices in this case, but I do not listen to gospel music so I would not be the best person to hypothetically recommend this user music artists.\n",
    "\n",
    "If the test samples fall into Cluster 2, which encompasses a diverse range of emotional and interpersonal themes, I would recommend songs that reflect a variety of emotions and experiences. Artists like Billie Eilish, Adele, Ed Sheeran, and Khalid are known for their heartfelt and emotionally resonant lyrics.\n",
    "\n",
    "For samples in Cluster 3, which may represent songs with a strong focus on music-related topics, I would suggest tracks that celebrate the artistry of music itself. Artists like Beyonce (who recently dropped her new album Cowboy Carter), Drake, and Ariana Grande who often sing about the joys and challenges of being a musician, could be appealing choices.\n",
    "\n",
    "In Cluster 4, which potentially includes songs with existential or observational themes, I would recommend tracks that offer thoughtful reflections on life and retrospectiveness. Artists like Lana Del Rey, The Weeknd, and Lorde, known for their introspective and philosophical lyrics might resonate well with listeners in this cluster."
   ]
  }
 ],
 "metadata": {
  "language_info": {
   "name": "python"
  }
 },
 "nbformat": 4,
 "nbformat_minor": 2
}
